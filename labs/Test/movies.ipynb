import pandas as pd

df = pd.read_csv(r'/ml-latest-small/movies.csv')