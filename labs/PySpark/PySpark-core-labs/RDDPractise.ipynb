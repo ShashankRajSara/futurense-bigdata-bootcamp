{
 "cells": [
  {
   "cell_type": "code",
   "execution_count": null,
   "id": "a6825364",
   "metadata": {},
   "outputs": [],
   "source": [
    "from pyspark import SparkContext"
   ]
  },
  {
   "cell_type": "code",
   "execution_count": null,
   "id": "e950dd5a",
   "metadata": {},
   "outputs": [],
   "source": [
    "sc = SparkContext('local','RDD - Jupyter Notebook')"
   ]
  },
  {
   "cell_type": "code",
   "execution_count": null,
   "id": "97cc652f",
   "metadata": {},
   "outputs": [],
   "source": [
    "rdd = sc.parallelize([2,3,6,1,4,1,65,15,15,1,151,5])"
   ]
  },
  {
   "cell_type": "code",
   "execution_count": null,
   "id": "80b37a53",
   "metadata": {},
   "outputs": [],
   "source": [
    "def squOdd(x):\n",
    "    if x % 2 !=0:\n",
    "        print(x**2)\n",
    "    \n",
    "    "
   ]
  },
  {
   "cell_type": "code",
   "execution_count": null,
   "id": "83304ffd",
   "metadata": {},
   "outputs": [],
   "source": [
    "rdd.foreach(squOdd)"
   ]
  },
  {
   "cell_type": "code",
   "execution_count": null,
   "id": "7d422fd9",
   "metadata": {},
   "outputs": [],
   "source": []
  },
  {
   "cell_type": "code",
   "execution_count": null,
   "id": "81690423",
   "metadata": {},
   "outputs": [],
   "source": []
  }
 ],
 "metadata": {
  "kernelspec": {
   "display_name": "Python 3 (ipykernel)",
   "language": "python",
   "name": "python3"
  },
  "language_info": {
   "codemirror_mode": {
    "name": "ipython",
    "version": 3
   },
   "file_extension": ".py",
   "mimetype": "text/x-python",
   "name": "python",
   "nbconvert_exporter": "python",
   "pygments_lexer": "ipython3",
   "version": "3.8.10"
  }
 },
 "nbformat": 4,
 "nbformat_minor": 5
}
