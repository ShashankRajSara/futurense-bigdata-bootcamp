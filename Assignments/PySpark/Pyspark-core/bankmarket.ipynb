{
 "cells": [
  {
   "attachments": {},
   "cell_type": "markdown",
   "metadata": {},
   "source": [
    "Assignment #2 - Bank Marketing Campaign Data Analysis with RDD API"
   ]
  },
  {
   "cell_type": "code",
   "execution_count": 1,
   "metadata": {},
   "outputs": [],
   "source": [
    "from pyspark import SparkContext"
   ]
  },
  {
   "cell_type": "code",
   "execution_count": null,
   "metadata": {},
   "outputs": [],
   "source": [
    "sc = SparkContext('local')"
   ]
  },
  {
   "attachments": {},
   "cell_type": "markdown",
   "metadata": {},
   "source": [
    "a) Load Bank Marketing Dataset and create RDD\t"
   ]
  },
  {
   "cell_type": "code",
   "execution_count": 6,
   "metadata": {},
   "outputs": [],
   "source": [
    "rdd=sc.textFile('C:/Users/Miles/Documents/GitHub/futurense_hadoop-pyspark/labs/dataset/bankmarket/bankmarketdata.csv')"
   ]
  },
  {
   "cell_type": "code",
   "execution_count": 17,
   "metadata": {},
   "outputs": [],
   "source": [
    "rdd = rdd.map( lambda x: x.split(';')).filter(lambda x: x[0] != 'age')"
   ]
  },
  {
   "attachments": {},
   "cell_type": "markdown",
   "metadata": {},
   "source": [
    "b) Give marketing success rate. (No. of people subscribed / total no. of entries)"
   ]
  },
  {
   "cell_type": "code",
   "execution_count": 23,
   "metadata": {},
   "outputs": [
    {
     "data": {
      "text/plain": [
       "11.698480458295547"
      ]
     },
     "execution_count": 23,
     "metadata": {},
     "output_type": "execute_result"
    }
   ],
   "source": [
    "(rdd.filter(lambda x : x[16] == '\"yes\"').count()/ rdd.count())*100"
   ]
  },
  {
   "attachments": {},
   "cell_type": "markdown",
   "metadata": {},
   "source": [
    "c) Give marketing failure rate"
   ]
  },
  {
   "cell_type": "code",
   "execution_count": 24,
   "metadata": {},
   "outputs": [
    {
     "data": {
      "text/plain": [
       "88.30151954170445"
      ]
     },
     "execution_count": 24,
     "metadata": {},
     "output_type": "execute_result"
    }
   ],
   "source": [
    "(rdd.filter(lambda x : x[16] == '\"no\"').count()/ rdd.count())*100"
   ]
  },
  {
   "attachments": {},
   "cell_type": "markdown",
   "metadata": {},
   "source": [
    "d) Maximum, Mean, and Minimum age of the average targeted customer"
   ]
  },
  {
   "cell_type": "code",
   "execution_count": 34,
   "metadata": {},
   "outputs": [
    {
     "name": "stdout",
     "output_type": "stream",
     "text": [
      "max: 95, mean: 40.936210214327815, min: 18\n"
     ]
    }
   ],
   "source": [
    "rddAge = rdd.map(lambda x: int(x[0]))\n",
    "\n",
    "print(\"max: {}, mean: {}, min: {}\".format(rddAge.max(),\\\n",
    "rddAge.mean(),\n",
    "rddAge.min()))"
   ]
  },
  {
   "attachments": {},
   "cell_type": "markdown",
   "metadata": {},
   "source": [
    "e) Check the quality of customers by checking the average balance, median balance of customers"
   ]
  },
  {
   "cell_type": "code",
   "execution_count": 37,
   "metadata": {},
   "outputs": [
    {
     "name": "stdout",
     "output_type": "stream",
     "text": [
      " mean: 1362.2720576850813, median: 448\n"
     ]
    }
   ],
   "source": [
    "rddBalance = rdd.map(lambda x: int(x[5]))\n",
    "\n",
    "print(\" mean: {}, median: {}\".format(rddBalance.mean(),\\\n",
    "rddBalance.sortBy(lambda x: x).collect()[rdd.count()//2]))"
   ]
  },
  {
   "attachments": {},
   "cell_type": "markdown",
   "metadata": {},
   "source": [
    "f) Check if age matters in marketing subscription for deposit"
   ]
  },
  {
   "cell_type": "code",
   "execution_count": 82,
   "metadata": {},
   "outputs": [
    {
     "data": {
      "text/plain": [
       "[('32', 221),\n",
       " ('30', 217),\n",
       " ('33', 210),\n",
       " ('35', 209),\n",
       " ('31', 206),\n",
       " ('34', 198),\n",
       " ('36', 195),\n",
       " ('29', 171),\n",
       " ('37', 170),\n",
       " ('28', 162),\n",
       " ('38', 144),\n",
       " ('39', 143),\n",
       " ('27', 141),\n",
       " ('26', 134),\n",
       " ('41', 120),\n",
       " ('46', 118),\n",
       " ('40', 116),\n",
       " ('47', 113),\n",
       " ('25', 113),\n",
       " ('42', 111),\n",
       " ('45', 106),\n",
       " ('43', 103),\n",
       " ('49', 101),\n",
       " ('60', 98),\n",
       " ('44', 93),\n",
       " ('59', 88),\n",
       " ('53', 85),\n",
       " ('52', 85),\n",
       " ('54', 84),\n",
       " ('48', 82),\n",
       " ('57', 78),\n",
       " ('51', 77),\n",
       " ('55', 76),\n",
       " ('50', 72),\n",
       " ('58', 72),\n",
       " ('56', 68),\n",
       " ('24', 68),\n",
       " ('61', 57),\n",
       " ('23', 44),\n",
       " ('22', 40),\n",
       " ('62', 39),\n",
       " ('64', 35),\n",
       " ('63', 30),\n",
       " ('71', 25),\n",
       " ('66', 24),\n",
       " ('72', 24),\n",
       " ('73', 24),\n",
       " ('67', 23),\n",
       " ('21', 22),\n",
       " ('77', 22),\n",
       " ('68', 21),\n",
       " ('65', 21),\n",
       " ('69', 17),\n",
       " ('70', 17),\n",
       " ('76', 16),\n",
       " ('75', 15),\n",
       " ('20', 15),\n",
       " ('78', 14),\n",
       " ('74', 13),\n",
       " ('80', 12),\n",
       " ('19', 11),\n",
       " ('79', 10),\n",
       " ('82', 8),\n",
       " ('18', 7),\n",
       " ('83', 6),\n",
       " ('81', 6),\n",
       " ('84', 5),\n",
       " ('85', 4),\n",
       " ('86', 4),\n",
       " ('87', 3),\n",
       " ('90', 2),\n",
       " ('92', 2),\n",
       " ('93', 2),\n",
       " ('95', 1)]"
      ]
     },
     "execution_count": 82,
     "metadata": {},
     "output_type": "execute_result"
    }
   ],
   "source": [
    "rdd.filter(lambda x : x[16] == '\"yes\"').map(lambda x : (x[0],1)).reduceByKey(lambda x,y: x+y).sortBy(lambda x: x[1],ascending=False).collect()"
   ]
  },
  {
   "attachments": {},
   "cell_type": "markdown",
   "metadata": {},
   "source": [
    "g) Show AgeGroup [Teenagers, Youngsters, MiddleAgers, Seniors] wise Subscription Count.\n"
   ]
  },
  {
   "cell_type": "code",
   "execution_count": 73,
   "metadata": {},
   "outputs": [
    {
     "data": {
      "text/plain": [
       "[('MiddleAge', 1848), ('Senior', 600), ('Youngster', 2823), ('Teenager', 18)]"
      ]
     },
     "execution_count": 73,
     "metadata": {},
     "output_type": "execute_result"
    }
   ],
   "source": [
    "def fun(x):\n",
    "    if x <20:\n",
    "        return 'Teenager'\n",
    "    elif x >=20 and x <40:\n",
    "        return 'Youngster'\n",
    "    elif x >=40 and x<60:\n",
    "        return 'MiddleAge'\n",
    "    else:\n",
    "        return 'Senior'\n",
    "    \n",
    "rdd.filter(lambda x : x[16] == '\"yes\"').map(lambda x: (fun(int(x[0])),1)).reduceByKey(lambda x,y:x+y).collect()"
   ]
  },
  {
   "attachments": {},
   "cell_type": "markdown",
   "metadata": {},
   "source": [
    "h) Check if marital status mattered for subscription to deposit.\n"
   ]
  },
  {
   "cell_type": "code",
   "execution_count": 78,
   "metadata": {},
   "outputs": [
    {
     "data": {
      "text/plain": [
       "[('\"married\"', 2755), ('\"single\"', 1912), ('\"divorced\"', 622)]"
      ]
     },
     "execution_count": 78,
     "metadata": {},
     "output_type": "execute_result"
    }
   ],
   "source": [
    "rdd.filter(lambda x : x[16] == '\"yes\"').map(lambda x: (x[2],1)).reduceByKey(lambda x,y:x+y).collect()"
   ]
  },
  {
   "attachments": {},
   "cell_type": "markdown",
   "metadata": {},
   "source": [
    "i) Check if age and marital status together mattered for subscription to deposit scheme"
   ]
  },
  {
   "cell_type": "code",
   "execution_count": 81,
   "metadata": {},
   "outputs": [
    {
     "data": {
      "text/plain": [
       "[(('30', '\"single\"'), 151),\n",
       " (('28', '\"single\"'), 138),\n",
       " (('29', '\"single\"'), 133),\n",
       " (('32', '\"single\"'), 124),\n",
       " (('26', '\"single\"'), 121),\n",
       " (('34', '\"married\"'), 118),\n",
       " (('31', '\"single\"'), 111),\n",
       " (('27', '\"single\"'), 110),\n",
       " (('35', '\"married\"'), 101),\n",
       " (('36', '\"married\"'), 100),\n",
       " (('25', '\"single\"'), 99),\n",
       " (('37', '\"married\"'), 98),\n",
       " (('33', '\"married\"'), 97),\n",
       " (('33', '\"single\"'), 97),\n",
       " (('39', '\"married\"'), 87),\n",
       " (('32', '\"married\"'), 87),\n",
       " (('38', '\"married\"'), 86),\n",
       " (('35', '\"single\"'), 84),\n",
       " (('47', '\"married\"'), 83),\n",
       " (('46', '\"married\"'), 80),\n",
       " (('31', '\"married\"'), 80),\n",
       " (('60', '\"married\"'), 73),\n",
       " (('40', '\"married\"'), 73),\n",
       " (('41', '\"married\"'), 72),\n",
       " (('49', '\"married\"'), 71),\n",
       " (('36', '\"single\"'), 71),\n",
       " (('42', '\"married\"'), 70),\n",
       " (('34', '\"single\"'), 69),\n",
       " (('45', '\"married\"'), 68),\n",
       " (('52', '\"married\"'), 67),\n",
       " (('59', '\"married\"'), 66),\n",
       " (('43', '\"married\"'), 62),\n",
       " (('53', '\"married\"'), 60),\n",
       " (('30', '\"married\"'), 59),\n",
       " (('51', '\"married\"'), 59),\n",
       " (('24', '\"single\"'), 58),\n",
       " (('57', '\"married\"'), 58),\n",
       " (('37', '\"single\"'), 57),\n",
       " (('50', '\"married\"'), 57),\n",
       " (('58', '\"married\"'), 54),\n",
       " (('54', '\"married\"'), 52),\n",
       " (('48', '\"married\"'), 51),\n",
       " (('55', '\"married\"'), 50),\n",
       " (('56', '\"married\"'), 49),\n",
       " (('44', '\"married\"'), 48),\n",
       " (('61', '\"married\"'), 47),\n",
       " (('23', '\"single\"'), 42),\n",
       " (('39', '\"single\"'), 40),\n",
       " (('22', '\"single\"'), 40),\n",
       " (('38', '\"single\"'), 38),\n",
       " (('62', '\"married\"'), 34),\n",
       " (('29', '\"married\"'), 33),\n",
       " (('41', '\"single\"'), 31),\n",
       " (('40', '\"single\"'), 31),\n",
       " (('64', '\"married\"'), 31),\n",
       " (('27', '\"married\"'), 29),\n",
       " (('55', '\"divorced\"'), 26),\n",
       " (('43', '\"single\"'), 26),\n",
       " (('46', '\"divorced\"'), 25),\n",
       " (('63', '\"married\"'), 25),\n",
       " (('35', '\"divorced\"'), 24),\n",
       " (('54', '\"divorced\"'), 24),\n",
       " (('45', '\"divorced\"'), 24),\n",
       " (('44', '\"single\"'), 24),\n",
       " (('36', '\"divorced\"'), 24),\n",
       " (('72', '\"married\"'), 23),\n",
       " (('42', '\"single\"'), 22),\n",
       " (('66', '\"married\"'), 22),\n",
       " (('60', '\"divorced\"'), 21),\n",
       " (('44', '\"divorced\"'), 21),\n",
       " (('21', '\"single\"'), 21),\n",
       " (('38', '\"divorced\"'), 20),\n",
       " (('28', '\"married\"'), 20),\n",
       " (('47', '\"single\"'), 20),\n",
       " (('42', '\"divorced\"'), 19),\n",
       " (('73', '\"married\"'), 19),\n",
       " (('65', '\"married\"'), 19),\n",
       " (('77', '\"married\"'), 19),\n",
       " (('53', '\"divorced\"'), 18),\n",
       " (('41', '\"divorced\"'), 17),\n",
       " (('58', '\"divorced\"'), 17),\n",
       " (('71', '\"married\"'), 17),\n",
       " (('49', '\"divorced\"'), 16),\n",
       " (('33', '\"divorced\"'), 16),\n",
       " (('48', '\"divorced\"'), 16),\n",
       " (('39', '\"divorced\"'), 16),\n",
       " (('59', '\"divorced\"'), 16),\n",
       " (('43', '\"divorced\"'), 15),\n",
       " (('37', '\"divorced\"'), 15),\n",
       " (('31', '\"divorced\"'), 15),\n",
       " (('48', '\"single\"'), 15),\n",
       " (('57', '\"divorced\"'), 15),\n",
       " (('67', '\"married\"'), 15),\n",
       " (('49', '\"single\"'), 14),\n",
       " (('25', '\"married\"'), 14),\n",
       " (('45', '\"single\"'), 14),\n",
       " (('20', '\"single\"'), 14),\n",
       " (('46', '\"single\"'), 13),\n",
       " (('26', '\"married\"'), 13),\n",
       " (('56', '\"divorced\"'), 13),\n",
       " (('69', '\"married\"'), 13),\n",
       " (('68', '\"married\"'), 13),\n",
       " (('40', '\"divorced\"'), 12),\n",
       " (('75', '\"married\"'), 12),\n",
       " (('70', '\"married\"'), 12),\n",
       " (('34', '\"divorced\"'), 11),\n",
       " (('50', '\"divorced\"'), 11),\n",
       " (('74', '\"married\"'), 11),\n",
       " (('19', '\"single\"'), 11),\n",
       " (('80', '\"married\"'), 11),\n",
       " (('52', '\"divorced\"'), 10),\n",
       " (('24', '\"married\"'), 10),\n",
       " (('47', '\"divorced\"'), 10),\n",
       " (('51', '\"divorced\"'), 10),\n",
       " (('32', '\"divorced\"'), 10),\n",
       " (('76', '\"married\"'), 10),\n",
       " (('61', '\"divorced\"'), 9),\n",
       " (('54', '\"single\"'), 8),\n",
       " (('51', '\"single\"'), 8),\n",
       " (('52', '\"single\"'), 8),\n",
       " (('79', '\"married\"'), 8),\n",
       " (('78', '\"married\"'), 8),\n",
       " (('71', '\"divorced\"'), 8),\n",
       " (('53', '\"single\"'), 7),\n",
       " (('30', '\"divorced\"'), 7),\n",
       " (('18', '\"single\"'), 7),\n",
       " (('67', '\"divorced\"'), 7),\n",
       " (('59', '\"single\"'), 6),\n",
       " (('56', '\"single\"'), 6),\n",
       " (('68', '\"divorced\"'), 6),\n",
       " (('76', '\"divorced\"'), 6),\n",
       " (('78', '\"divorced\"'), 6),\n",
       " (('57', '\"single\"'), 5),\n",
       " (('29', '\"divorced\"'), 5),\n",
       " (('62', '\"divorced\"'), 5),\n",
       " (('70', '\"divorced\"'), 5),\n",
       " (('82', '\"married\"'), 5),\n",
       " (('28', '\"divorced\"'), 4),\n",
       " (('60', '\"single\"'), 4),\n",
       " (('50', '\"single\"'), 4),\n",
       " (('64', '\"divorced\"'), 4),\n",
       " (('73', '\"divorced\"'), 4),\n",
       " (('84', '\"married\"'), 4),\n",
       " (('81', '\"married\"'), 4),\n",
       " (('63', '\"divorced\"'), 4),\n",
       " (('75', '\"divorced\"'), 3),\n",
       " (('85', '\"married\"'), 3),\n",
       " (('77', '\"divorced\"'), 3),\n",
       " (('69', '\"divorced\"'), 3),\n",
       " (('83', '\"married\"'), 3),\n",
       " (('82', '\"divorced\"'), 3),\n",
       " (('27', '\"divorced\"'), 2),\n",
       " (('90', '\"divorced\"'), 2),\n",
       " (('83', '\"divorced\"'), 2),\n",
       " (('65', '\"divorced\"'), 2),\n",
       " (('23', '\"married\"'), 2),\n",
       " (('79', '\"divorced\"'), 2),\n",
       " (('74', '\"divorced\"'), 2),\n",
       " (('92', '\"married\"'), 2),\n",
       " (('68', '\"single\"'), 2),\n",
       " (('87', '\"married\"'), 2),\n",
       " (('81', '\"divorced\"'), 2),\n",
       " (('66', '\"divorced\"'), 2),\n",
       " (('86', '\"married\"'), 2),\n",
       " (('93', '\"married\"'), 2),\n",
       " (('85', '\"divorced\"'), 1),\n",
       " (('95', '\"divorced\"'), 1),\n",
       " (('67', '\"single\"'), 1),\n",
       " (('58', '\"single\"'), 1),\n",
       " (('21', '\"married\"'), 1),\n",
       " (('20', '\"married\"'), 1),\n",
       " (('61', '\"single\"'), 1),\n",
       " (('86', '\"divorced\"'), 1),\n",
       " (('83', '\"single\"'), 1),\n",
       " (('87', '\"divorced\"'), 1),\n",
       " (('86', '\"single\"'), 1),\n",
       " (('72', '\"divorced\"'), 1),\n",
       " (('73', '\"single\"'), 1),\n",
       " (('80', '\"divorced\"'), 1),\n",
       " (('84', '\"divorced\"'), 1),\n",
       " (('69', '\"single\"'), 1),\n",
       " (('63', '\"single\"'), 1)]"
      ]
     },
     "execution_count": 81,
     "metadata": {},
     "output_type": "execute_result"
    }
   ],
   "source": [
    "rdd.filter(lambda x : x[16] == '\"yes\"').map(lambda x: ((x[0],x[2]),1)).reduceByKey(lambda x,y:x+y).sortBy(lambda x: x[1],ascending=False).collect()"
   ]
  }
 ],
 "metadata": {
  "kernelspec": {
   "display_name": "Python 3",
   "language": "python",
   "name": "python3"
  },
  "language_info": {
   "codemirror_mode": {
    "name": "ipython",
    "version": 3
   },
   "file_extension": ".py",
   "mimetype": "text/x-python",
   "name": "python",
   "nbconvert_exporter": "python",
   "pygments_lexer": "ipython3",
   "version": "3.10.10"
  },
  "orig_nbformat": 4,
  "vscode": {
   "interpreter": {
    "hash": "478c252231dfe006bc6f75e9071afe2d2dd3e9fa01c3c124e4bb74b28e07e18a"
   }
  }
 },
 "nbformat": 4,
 "nbformat_minor": 2
}
