{
 "cells": [
  {
   "attachments": {},
   "cell_type": "markdown",
   "metadata": {},
   "source": [
    "Weather Data Analysis with DataFrame API"
   ]
  },
  {
   "cell_type": "code",
   "execution_count": 7,
   "metadata": {},
   "outputs": [],
   "source": [
    "from pyspark.sql import SparkSession\n",
    "from pyspark.sql.functions import *\n",
    "from pyspark.sql.types import *"
   ]
  },
  {
   "attachments": {},
   "cell_type": "markdown",
   "metadata": {},
   "source": [
    "a) Load Weather Dataset and create DataFrame"
   ]
  },
  {
   "cell_type": "code",
   "execution_count": 2,
   "metadata": {},
   "outputs": [],
   "source": [
    "spark = SparkSession.builder.master('local').appName('VS Code Shell').getOrCreate()"
   ]
  },
  {
   "cell_type": "code",
   "execution_count": 29,
   "metadata": {},
   "outputs": [],
   "source": [
    "rdd=spark.sparkContext.textFile('C:/Users/Miles/Documents/GitHub/futurense_hadoop-pyspark/labs/dataset/weather/weather_data.txt')"
   ]
  },
  {
   "cell_type": "code",
   "execution_count": 69,
   "metadata": {},
   "outputs": [],
   "source": [
    "# schema = StructType([ StructField(\"WBANNO\", IntegerType(), True),\n",
    "#                       StructField(\"LST_DATE\", StringType(), True),\n",
    "#                       StructField(\"CRX_VN\", DecimalType(), True),\n",
    "#                       StructField(\"LONGITUDE\", DecimalType(), True),\n",
    "#                       StructField(\"LATITUDE\", DecimalType(), True),\n",
    "#                       StructField(\"T_DAILY_MAX\", DecimalType(), True),\n",
    "#                       StructField(\"T_DAILY_MIN\", DecimalType(), True),\n",
    "#                       StructField(\"T_DAILY_MEAN\", DecimalType(), True),\n",
    "#                       StructField(\"T_DAILY_AVG\", DecimalType(), True),\n",
    "#                       StructField(\"P_DAILY_CALC\", DecimalType(), True),\n",
    "#                       StructField(\"SOLARAD_DAILY\", StringType(), True),\n",
    "#                       StructField(\"SUR_TEMP_DAILY_TYPE\", DecimalType(), True),\n",
    "#                       StructField(\"SUR_TEMP_DAILY_MAX\", DecimalType(), True),\n",
    "#                       StructField(\"SUR_TEMP_DAILY_MIN\", DecimalType(), True),\n",
    "#                       StructField(\"SUR_TEMP_DAILY_AVG\", DecimalType(), True),\n",
    "#                       StructField(\"RH_DAILY_MAX\", DecimalType(), True),\n",
    "#                       StructField(\"RH_DAILY_MIN\", DecimalType(), True),\n",
    "#                       StructField(\"RH_DAILY_AVG\", DecimalType(), True),\n",
    "#                       StructField(\"SOIL_MOISTURE_5_DAILY\", DecimalType(), True),\n",
    "#                       StructField(\"SOIL_MOISTURE_10_DAILY\", DecimalType(), True),\n",
    "#                       StructField(\"SOIL_MOISTURE_20_DAILY\", DecimalType(), True),\n",
    "#                       StructField(\"SOIL_MOISTURE_50_DAILY\", DecimalType(), True),\n",
    "#                       StructField(\"SOIL_MOISTURE_100_DAILY\", DecimalType(), True),\n",
    "#                       StructField(\"SOIL_TEMP_5_DAILY\", DecimalType(), True),\n",
    "#                       StructField(\"SOIL_TEMP_10_DAILY\", DecimalType(), True),\n",
    "#                       StructField(\"SOIL_TEMP_20_DAILY\", DecimalType(), True),\n",
    "#                       StructField(\"SOIL_TEMP_50_DAILY\", DecimalType(), True),\n",
    "#                       StructField(\"SOIL_TEMP_100_DAILY\", DecimalType(), True)])"
   ]
  },
  {
   "cell_type": "code",
   "execution_count": 39,
   "metadata": {},
   "outputs": [
    {
     "name": "stdout",
     "output_type": "stream",
     "text": [
      "+-----+--------+-----+------+-----+----+----+----+----+---+-----+---+----+----+----+-----+----+----+-----+-----+-------+-------+-------+----+----+-------+-------+-------+\n",
      "|   _1|      _2|   _3|    _4|   _5|  _6|  _7|  _8|  _9|_10|  _11|_12| _13| _14| _15|  _16| _17| _18|  _19|  _20|    _21|    _22|    _23| _24| _25|    _26|    _27|    _28|\n",
      "+-----+--------+-----+------+-----+----+----+----+----+---+-----+---+----+----+----+-----+----+----+-----+-----+-------+-------+-------+----+----+-------+-------+-------+\n",
      "|23907|20150101|2.423|-98.08|30.62| 2.2|-0.6| 0.8| 0.9|6.2| 1.47|  C| 3.7| 1.1| 2.5| 99.9|85.4|97.2|0.369|0.308|-99.000|-99.000|-99.000| 7.0| 8.1|-9999.0|-9999.0|-9999.0|\n",
      "|23907|20150102|2.423|-98.08|30.62| 3.5| 1.3| 2.4| 2.2|9.0| 1.43|  C| 4.9| 2.3| 3.1|100.0|98.8|99.8|0.391|0.327|-99.000|-99.000|-99.000| 7.1| 7.9|-9999.0|-9999.0|-9999.0|\n",
      "|23907|20150103|2.423|-98.08|30.62|15.9| 2.3| 9.1| 7.5|2.9|11.00|  C|16.4| 2.9| 7.3|100.0|34.8|73.7|0.450|0.397|-99.000|-99.000|-99.000| 7.6| 7.9|-9999.0|-9999.0|-9999.0|\n",
      "|23907|20150104|2.423|-98.08|30.62| 9.2|-1.3| 3.9| 4.2|0.0|13.24|  C|12.4|-0.5| 4.9| 82.0|40.6|61.7|0.414|0.352|-99.000|-99.000|-99.000| 7.3| 7.9|-9999.0|-9999.0|-9999.0|\n",
      "|23907|20150105|2.423|-98.08|30.62|10.9|-3.7| 3.6| 2.6|0.0|13.37|  C|14.7|-3.0| 3.8| 77.9|33.3|57.4|0.399|0.340|-99.000|-99.000|-99.000| 6.3| 7.0|-9999.0|-9999.0|-9999.0|\n",
      "|23907|20150106|2.423|-98.08|30.62|20.2| 2.9|11.6|10.9|0.0|12.90|  C|22.0| 1.6| 9.9| 67.7|30.2|49.3|0.395|0.335|-99.000|-99.000|-99.000| 8.0| 8.0|-9999.0|-9999.0|-9999.0|\n",
      "|23907|20150107|2.423|-98.08|30.62|10.9|-3.4| 3.8| 4.5|0.0|12.68|  C|12.4|-2.1| 5.5| 82.7|36.5|55.7|0.387|0.328|-99.000|-99.000|-99.000| 7.6| 8.3|-9999.0|-9999.0|-9999.0|\n",
      "|23907|20150108|2.423|-98.08|30.62| 0.6|-7.9|-3.6|-3.3|0.0| 4.98|  C| 3.9|-4.8|-0.5| 57.7|37.6|48.1|0.372|0.316|-99.000|-99.000|-99.000| 4.7| 6.1|-9999.0|-9999.0|-9999.0|\n",
      "|23907|20150109|2.423|-98.08|30.62| 2.0| 0.1| 1.0| 0.8|0.0| 2.52|  C| 4.1| 1.2| 2.5| 87.8|48.9|64.4|0.368|0.312|-99.000|-99.000|-99.000| 5.4| 6.2|-9999.0|-9999.0|-9999.0|\n",
      "|23907|20150110|2.423|-98.08|30.62| 0.5|-2.0|-0.8|-0.6|3.3| 2.11|  C| 2.5|-0.1| 1.4| 99.9|47.7|85.8|0.373|0.314|-99.000|-99.000|-99.000| 5.1| 6.0|-9999.0|-9999.0|-9999.0|\n",
      "|23907|20150111|2.423|-98.08|30.62|10.9| 0.0| 5.4| 4.4|2.9| 6.38|  C|12.7| 1.3| 5.8|100.0|77.8|97.1|0.420|0.362|-99.000|-99.000|-99.000| 6.5| 6.7|-9999.0|-9999.0|-9999.0|\n",
      "|23907|20150112|2.423|-98.08|30.62| 6.5| 1.4| 4.0| 4.3|0.0| 1.55|  C| 6.9| 2.7| 5.1|100.0|89.4|97.8|0.412|0.350|-99.000|-99.000|-99.000| 7.3| 7.5|-9999.0|-9999.0|-9999.0|\n",
      "|23907|20150113|2.423|-98.08|30.62| 3.0|-0.7| 1.1| 1.2|0.0| 3.26|  C| 5.6| 0.7| 2.9| 99.7|80.7|90.7|0.401|0.337|-99.000|-99.000|-99.000| 6.1| 6.8|-9999.0|-9999.0|-9999.0|\n",
      "|23907|20150114|2.423|-98.08|30.62| 2.9| 0.9| 1.9| 1.8|0.0| 1.88|  C| 4.7| 2.0| 3.1| 99.6|90.8|97.9|0.395|0.331|-99.000|-99.000|-99.000| 6.1| 6.7|-9999.0|-9999.0|-9999.0|\n",
      "|23907|20150115|2.423|-98.08|30.62|13.2| 1.2| 7.2| 6.4|0.0|13.37|  C|16.4| 1.4| 6.7| 98.9|46.7|73.4|0.395|0.333|-99.000|-99.000|-99.000| 6.7| 7.0|-9999.0|-9999.0|-9999.0|\n",
      "|23907|20150116|2.423|-98.08|30.62|16.7| 3.5|10.1| 9.9|0.0|13.68|  C|19.2| 1.3| 8.7| 80.2|38.1|58.2|0.391|0.330|-99.000|-99.000|-99.000| 7.3| 7.4|-9999.0|-9999.0|-9999.0|\n",
      "|23907|20150117|2.423|-98.08|30.62|19.5| 5.0|12.2|12.3|0.0|10.96|  C|20.9| 3.3|10.6| 87.7|30.4|55.7|0.388|0.327|-99.000|-99.000|-99.000| 8.7| 8.4|-9999.0|-9999.0|-9999.0|\n",
      "|23907|20150118|2.423|-98.08|30.62|20.9| 7.6|14.3|13.7|0.0|15.03|  C|23.4| 3.5|11.9| 45.9|14.6|31.4|0.383|0.325|-99.000|-99.000|-99.000| 9.5| 9.2|-9999.0|-9999.0|-9999.0|\n",
      "|23907|20150119|2.423|-98.08|30.62|23.9| 6.7|15.3|14.3|0.0|14.10|  C|25.6| 3.8|12.6| 65.3|26.8|45.6|0.376|0.321|-99.000|-99.000|-99.000| 9.9| 9.5|-9999.0|-9999.0|-9999.0|\n",
      "|23907|20150120|2.423|-98.08|30.62|26.0| 9.5|17.8|15.9|0.0|14.57|  C|27.9| 6.5|14.5| 88.4|16.1|50.2|0.373|0.320|-99.000|-99.000|-99.000|10.9|10.4|-9999.0|-9999.0|-9999.0|\n",
      "+-----+--------+-----+------+-----+----+----+----+----+---+-----+---+----+----+----+-----+----+----+-----+-----+-------+-------+-------+----+----+-------+-------+-------+\n",
      "only showing top 20 rows\n",
      "\n"
     ]
    }
   ],
   "source": [
    "df=rdd.map(lambda x: x.split()).toDF()\n",
    "df.show()"
   ]
  },
  {
   "attachments": {},
   "cell_type": "markdown",
   "metadata": {},
   "source": [
    "b) Show Min and Max Temperature"
   ]
  },
  {
   "cell_type": "code",
   "execution_count": 47,
   "metadata": {},
   "outputs": [],
   "source": [
    "df.createOrReplaceTempView('weather')"
   ]
  },
  {
   "cell_type": "code",
   "execution_count": 52,
   "metadata": {},
   "outputs": [
    {
     "name": "stdout",
     "output_type": "stream",
     "text": [
      "+-------+-------+\n",
      "|max(_6)|min(_7)|\n",
      "+-------+-------+\n",
      "|     36|     -7|\n",
      "+-------+-------+\n",
      "\n"
     ]
    }
   ],
   "source": [
    "spark.sql(\"Select max(int(_6)),min(int(_7)) from weather\").show()"
   ]
  },
  {
   "attachments": {},
   "cell_type": "markdown",
   "metadata": {},
   "source": [
    "c) Show month wise Min and Max Temperature"
   ]
  },
  {
   "cell_type": "code",
   "execution_count": 68,
   "metadata": {},
   "outputs": [
    {
     "name": "stdout",
     "output_type": "stream",
     "text": [
      "+-------------------+-------+-------+\n",
      "|substring(_2, 5, 2)|max(_6)|min(_7)|\n",
      "+-------------------+-------+-------+\n",
      "|                 01|    9.4|   -0.6|\n",
      "|                 02|    9.4|   -0.4|\n",
      "|                 03|    4.9|   -0.2|\n",
      "|                 04|   30.8|   10.7|\n",
      "|                 05|   31.1|   14.3|\n",
      "|                 06|   33.6|    0.0|\n",
      "|                 07|   36.0|   19.8|\n",
      "+-------------------+-------+-------+\n",
      "\n"
     ]
    }
   ],
   "source": [
    "spark.sql(\"Select substring(_2,5,2),max(_6),min(_7) from weather group by substring(_2,5,2) \").show()"
   ]
  }
 ],
 "metadata": {
  "kernelspec": {
   "display_name": "Python 3",
   "language": "python",
   "name": "python3"
  },
  "language_info": {
   "codemirror_mode": {
    "name": "ipython",
    "version": 3
   },
   "file_extension": ".py",
   "mimetype": "text/x-python",
   "name": "python",
   "nbconvert_exporter": "python",
   "pygments_lexer": "ipython3",
   "version": "3.10.10"
  },
  "orig_nbformat": 4,
  "vscode": {
   "interpreter": {
    "hash": "478c252231dfe006bc6f75e9071afe2d2dd3e9fa01c3c124e4bb74b28e07e18a"
   }
  }
 },
 "nbformat": 4,
 "nbformat_minor": 2
}
